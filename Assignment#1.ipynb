{
 "cells": [
  {
   "cell_type": "code",
   "execution_count": 3,
   "metadata": {},
   "outputs": [
    {
     "name": "stdout",
     "output_type": "stream",
     "text": [
      "Twinkle, twinkle, little star, \n",
      "\tHow I wonder what you are! \n",
      "\t\tUp above the world so high, \n",
      "\t\tLike a diamond in the sky. \n",
      "Twinkle, twinkle, little star, \n",
      "\tHow I wonder what you are!\n"
     ]
    }
   ],
   "source": [
    "# Q1\n",
    "\n",
    "print(\"Twinkle, twinkle, little star, \\n\\tHow I wonder what you are! \\n\\t\\tUp above the world so high, \\n\\t\\tLike a diamond in the sky. \\nTwinkle, twinkle, little star, \\n\\tHow I wonder what you are!\")"
   ]
  },
  {
   "cell_type": "code",
   "execution_count": 8,
   "metadata": {},
   "outputs": [
    {
     "name": "stdout",
     "output_type": "stream",
     "text": [
      "My Python version: 3.8.5 (default, Sep  3 2020, 21:29:08) [MSC v.1916 64 bit (AMD64)]\n",
      "Version information: sys.version_info(major=3, minor=8, micro=5, releaselevel='final', serial=0)\n"
     ]
    }
   ],
   "source": [
    "# Q2\n",
    "\n",
    "import sys                       # I imported this library to extract the info about the version I'm using currently\n",
    "print(\"My Python version:\", sys.version)\n",
    "\n",
    "print(\"Version information:\", sys.version_info)\n",
    "\n"
   ]
  },
  {
   "cell_type": "code",
   "execution_count": 10,
   "metadata": {},
   "outputs": [
    {
     "name": "stdout",
     "output_type": "stream",
     "text": [
      "The Current Date and Time is :  2022-01-01 19:05:31\n"
     ]
    }
   ],
   "source": [
    "# Q3\n",
    "\n",
    "import datetime                # I imported this library to extract the info about the date and time\n",
    "today = datetime.datetime.now()\n",
    "print (\"The Current Date and Time is : \", today.strftime(\"%Y-%m-%d %H:%M:%S\"))\n"
   ]
  },
  {
   "cell_type": "code",
   "execution_count": 13,
   "metadata": {},
   "outputs": [
    {
     "name": "stdout",
     "output_type": "stream",
     "text": [
      "Please Input the radius of the circle in centimeters : 6.8\n",
      "The area of the circle with radius 6.8 is: 145.267244301992 sq. cms\n"
     ]
    }
   ],
   "source": [
    "#Q4 \n",
    "\n",
    "from math import pi                 #importing pi to compute area of a circle\n",
    "rds = float(input (\"Please Input the radius of the circle in centimeters : \"))\n",
    "print (\"The area of the circle with radius \" + str(rds) + \" is: \" + str(pi * rds**2) + \" sq. cms\")\n"
   ]
  },
  {
   "cell_type": "code",
   "execution_count": 14,
   "metadata": {},
   "outputs": [
    {
     "name": "stdout",
     "output_type": "stream",
     "text": [
      "Input your First Name here : Tahreem\n",
      "Input your Last Name here : Khan\n",
      "Nice to meet you,  Khan Tahreem\n"
     ]
    }
   ],
   "source": [
    "# Q5\n",
    "\n",
    "first_name = input(\"Input your First Name here : \")\n",
    "last_name = input(\"Input your Last Name here : \")\n",
    "print (\"Nice to meet you,  \" + last_name + \" \" + first_name)\n"
   ]
  },
  {
   "cell_type": "code",
   "execution_count": 16,
   "metadata": {},
   "outputs": [
    {
     "name": "stdout",
     "output_type": "stream",
     "text": [
      "**Enter two numbers to calculate their sum**\n",
      "\n",
      "\tEnter first number: 5\n",
      "\n",
      "\tEnter second number: 6\n",
      "\n",
      "\tThe sum of first number and second number is =  11.0\n"
     ]
    }
   ],
   "source": [
    "# Q6\n",
    "\n",
    "print(\"**Enter two numbers to calculate their sum**\")\n",
    "num1 = input('\\n\\tEnter first number: ')\n",
    "num2 = input('\\n\\tEnter second number: ')\n",
    "sum = float(num1) + float(num2)\n",
    "print('\\n\\tThe sum of first number and second number is = ', sum)\n"
   ]
  },
  {
   "cell_type": "code",
   "execution_count": null,
   "metadata": {},
   "outputs": [],
   "source": []
  }
 ],
 "metadata": {
  "kernelspec": {
   "display_name": "Python 3",
   "language": "python",
   "name": "python3"
  },
  "language_info": {
   "codemirror_mode": {
    "name": "ipython",
    "version": 3
   },
   "file_extension": ".py",
   "mimetype": "text/x-python",
   "name": "python",
   "nbconvert_exporter": "python",
   "pygments_lexer": "ipython3",
   "version": "3.8.5"
  }
 },
 "nbformat": 4,
 "nbformat_minor": 4
}
